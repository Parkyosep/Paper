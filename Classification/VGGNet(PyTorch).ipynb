{
  "nbformat": 4,
  "nbformat_minor": 0,
  "metadata": {
    "colab": {
      "provenance": [],
      "gpuType": "T4",
      "authorship_tag": "ABX9TyPs0/4PuOAL8/4CxisbjphZ"
    },
    "kernelspec": {
      "name": "python3",
      "display_name": "Python 3"
    },
    "language_info": {
      "name": "python"
    },
    "accelerator": "GPU"
  },
  "cells": [
    {
      "cell_type": "code",
      "execution_count": 1,
      "metadata": {
        "id": "yuG-9pC2wTXP"
      },
      "outputs": [],
      "source": [
        "import os\n",
        "import numpy as np\n",
        "import torchvision.datasets as datasets\n",
        "import torchvision.transforms as transforms\n",
        "from torch.utils.data import DataLoader\n",
        "import matplotlib.pyplot as plt\n",
        "import torch\n",
        "import torch.nn as nn\n",
        "from torch import Tensor\n",
        "from typing import Any, Callable, List, Optional, Tuple\n",
        "from easydict import EasyDict"
      ]
    },
    {
      "cell_type": "markdown",
      "source": [
        "## Model\n",
        "Make Model(VGG-16, VGG-19) by PyTorch"
      ],
      "metadata": {
        "id": "tl9Kj-MA7_7c"
      }
    },
    {
      "cell_type": "code",
      "source": [
        "class BasicConv2d(nn.Module):\n",
        "    def __init__(self, in_channels, out_channels, **kwargs):\n",
        "        super(BasicConv2d, self).__init__()\n",
        "\n",
        "        self.conv = nn.Sequential(\n",
        "            nn.Conv2d(in_channels, out_channels, kernel_size=3, bias=False, stride = 1, padding=\"same\", **kwargs),\n",
        "            nn.ReLU()\n",
        "        )\n",
        "    \n",
        "    def forward(self, x):\n",
        "        return self.conv(x)"
      ],
      "metadata": {
        "id": "NT26_fVIxVyD"
      },
      "execution_count": 7,
      "outputs": []
    },
    {
      "cell_type": "code",
      "source": [
        "class VGGNet(nn.Module):\n",
        "    def __init__(self, nblocks, num_classes=10, init_weights=True):\n",
        "        # nblocks = number of conv3, 4, 5 layer\n",
        "        # if nblocks = 3 -> VGGNet16, if nblocks=4 -> VGGNet19\n",
        "        \n",
        "        super(VGGNet, self).__init__()\n",
        "\n",
        "        # conv1\n",
        "        self.conv1 = nn.Sequential(\n",
        "            BasicConv2d(3, 64),\n",
        "            BasicConv2d(64, 64),\n",
        "            nn.MaxPool2d(kernel_size = 2, stride = 2)\n",
        "        )\n",
        "\n",
        "        # conv2\n",
        "        self.conv2 = nn.Sequential(\n",
        "            BasicConv2d(64, 128),\n",
        "            BasicConv2d(128, 128),\n",
        "            nn.MaxPool2d(kernel_size = 2, stride = 2)\n",
        "        )\n",
        "\n",
        "        # conv3\n",
        "        layers = []\n",
        "        layers.append(BasicConv2d(128, 256))\n",
        "        for i in range(nblocks-1):\n",
        "            layers.append(BasicConv2d(256, 256))\n",
        "        layers.append(nn.MaxPool2d(kernel_size = 2, stride = 2))\n",
        "        \n",
        "        self.conv3 = nn.Sequential(*layers)\n",
        "\n",
        "        # conv4\n",
        "        layers = []\n",
        "        layers.append(BasicConv2d(256, 512))\n",
        "        for i in range(nblocks-1):\n",
        "            layers.append(BasicConv2d(512, 512))\n",
        "        layers.append(nn.MaxPool2d(kernel_size = 2, stride = 2))\n",
        "        \n",
        "        self.conv4 = nn.Sequential(*layers)\n",
        "\n",
        "        # conv5, number of channels don't change\n",
        "        layers = []\n",
        "        for i in range(nblocks):\n",
        "            layers.append(BasicConv2d(512, 512))\n",
        "        layers.append(nn.MaxPool2d(kernel_size = 2, stride = 2))\n",
        "        \n",
        "        self.conv5 = nn.Sequential(*layers)\n",
        "\n",
        "        # classifier\n",
        "        self.fc = nn.Sequential(\n",
        "            # since 224x224 -> 7x7, 512x7x7 must be input\n",
        "            # paper does not use average pooling, so I didn't use adaptive average pooling\n",
        "            nn.Linear(512*7*7, 4096),\n",
        "            nn.Dropout(p=0.5),\n",
        "            nn.ReLU(),\n",
        "            nn.Linear(4096, 4096),\n",
        "            nn.Dropout(p=0.5),\n",
        "            nn.ReLU(),\n",
        "            nn.Linear(4096, num_classes)\n",
        "        )\n",
        "        if init_weights:\n",
        "            self._initialize_weights()\n",
        "\n",
        "    def forward(self, x):\n",
        "        x = self.conv1(x)\n",
        "        x = self.conv2(x)\n",
        "        x = self.conv3(x)\n",
        "        x = self.conv4(x)\n",
        "        x = self.conv5(x)\n",
        "        x = nn.Flatten()(x)\n",
        "        x = self.fc(x)\n",
        "        return x\n",
        "\n",
        "    def _initialize_weights(self):\n",
        "        for m in self.modules():\n",
        "            if isinstance(m, nn.Conv2d):\n",
        "                # according to paper, random initialization = (mean=0, variance=10^-2)\n",
        "                nn.init.normal_(m.weight, mean=0.0, std=0.1)\n",
        "                if m.bias is not None:\n",
        "                    # if bias exist, bias = 0\n",
        "                    nn.init.constant_(m.bias, 0)\n",
        "            elif isinstance(m, nn.BatchNorm2d):\n",
        "                nn.init.constant_(m.weight, 1)\n",
        "                nn.init.constant_(m.bias, 0)\n",
        "            elif isinstance(m, nn.Linear):\n",
        "                nn.init.normal_(m.weight, 0, 0.01)\n",
        "                nn.init.constant_(m.bias, 0)"
      ],
      "metadata": {
        "id": "PiyDTtwryqAi"
      },
      "execution_count": 30,
      "outputs": []
    },
    {
      "cell_type": "code",
      "source": [
        "def VGGNet16():\n",
        "    return VGGNet(3)\n",
        "\n",
        "def VGGNet19():\n",
        "    return VGGNet(4)"
      ],
      "metadata": {
        "id": "TqBq9tx92oJ5"
      },
      "execution_count": 31,
      "outputs": []
    },
    {
      "cell_type": "code",
      "source": [
        "# test\n",
        "model = VGGNet16()\n",
        "x = torch.randn(3, 3, 224, 224)\n",
        "print(model(x).size())"
      ],
      "metadata": {
        "colab": {
          "base_uri": "https://localhost:8080/"
        },
        "id": "O7EfWScQ2X-7",
        "outputId": "f3acae3a-88d7-404b-dc6d-bcb400c8270c"
      },
      "execution_count": 32,
      "outputs": [
        {
          "output_type": "stream",
          "name": "stdout",
          "text": [
            "torch.Size([3, 10])\n"
          ]
        }
      ]
    },
    {
      "cell_type": "code",
      "source": [
        "from torchsummary import summary\n",
        "device = torch.device('cuda' if torch.cuda.is_available() else 'cpu')\n",
        "model = model.to(device)\n",
        "summary(model, (3,224,224), device = device.type)"
      ],
      "metadata": {
        "colab": {
          "base_uri": "https://localhost:8080/"
        },
        "id": "1HrRCzrx21uu",
        "outputId": "5c6b6b75-572b-4473-dc20-7d493402f034"
      },
      "execution_count": 33,
      "outputs": [
        {
          "output_type": "stream",
          "name": "stdout",
          "text": [
            "----------------------------------------------------------------\n",
            "        Layer (type)               Output Shape         Param #\n",
            "================================================================\n",
            "            Conv2d-1         [-1, 64, 224, 224]           1,728\n",
            "              ReLU-2         [-1, 64, 224, 224]               0\n",
            "       BasicConv2d-3         [-1, 64, 224, 224]               0\n",
            "            Conv2d-4         [-1, 64, 224, 224]          36,864\n",
            "              ReLU-5         [-1, 64, 224, 224]               0\n",
            "       BasicConv2d-6         [-1, 64, 224, 224]               0\n",
            "         MaxPool2d-7         [-1, 64, 112, 112]               0\n",
            "            Conv2d-8        [-1, 128, 112, 112]          73,728\n",
            "              ReLU-9        [-1, 128, 112, 112]               0\n",
            "      BasicConv2d-10        [-1, 128, 112, 112]               0\n",
            "           Conv2d-11        [-1, 128, 112, 112]         147,456\n",
            "             ReLU-12        [-1, 128, 112, 112]               0\n",
            "      BasicConv2d-13        [-1, 128, 112, 112]               0\n",
            "        MaxPool2d-14          [-1, 128, 56, 56]               0\n",
            "           Conv2d-15          [-1, 256, 56, 56]         294,912\n",
            "             ReLU-16          [-1, 256, 56, 56]               0\n",
            "      BasicConv2d-17          [-1, 256, 56, 56]               0\n",
            "           Conv2d-18          [-1, 256, 56, 56]         589,824\n",
            "             ReLU-19          [-1, 256, 56, 56]               0\n",
            "      BasicConv2d-20          [-1, 256, 56, 56]               0\n",
            "           Conv2d-21          [-1, 256, 56, 56]         589,824\n",
            "             ReLU-22          [-1, 256, 56, 56]               0\n",
            "      BasicConv2d-23          [-1, 256, 56, 56]               0\n",
            "        MaxPool2d-24          [-1, 256, 28, 28]               0\n",
            "           Conv2d-25          [-1, 512, 28, 28]       1,179,648\n",
            "             ReLU-26          [-1, 512, 28, 28]               0\n",
            "      BasicConv2d-27          [-1, 512, 28, 28]               0\n",
            "           Conv2d-28          [-1, 512, 28, 28]       2,359,296\n",
            "             ReLU-29          [-1, 512, 28, 28]               0\n",
            "      BasicConv2d-30          [-1, 512, 28, 28]               0\n",
            "           Conv2d-31          [-1, 512, 28, 28]       2,359,296\n",
            "             ReLU-32          [-1, 512, 28, 28]               0\n",
            "      BasicConv2d-33          [-1, 512, 28, 28]               0\n",
            "        MaxPool2d-34          [-1, 512, 14, 14]               0\n",
            "           Conv2d-35          [-1, 512, 14, 14]       2,359,296\n",
            "             ReLU-36          [-1, 512, 14, 14]               0\n",
            "      BasicConv2d-37          [-1, 512, 14, 14]               0\n",
            "           Conv2d-38          [-1, 512, 14, 14]       2,359,296\n",
            "             ReLU-39          [-1, 512, 14, 14]               0\n",
            "      BasicConv2d-40          [-1, 512, 14, 14]               0\n",
            "           Conv2d-41          [-1, 512, 14, 14]       2,359,296\n",
            "             ReLU-42          [-1, 512, 14, 14]               0\n",
            "      BasicConv2d-43          [-1, 512, 14, 14]               0\n",
            "        MaxPool2d-44            [-1, 512, 7, 7]               0\n",
            "           Linear-45                 [-1, 4096]     102,764,544\n",
            "          Dropout-46                 [-1, 4096]               0\n",
            "             ReLU-47                 [-1, 4096]               0\n",
            "           Linear-48                 [-1, 4096]      16,781,312\n",
            "          Dropout-49                 [-1, 4096]               0\n",
            "             ReLU-50                 [-1, 4096]               0\n",
            "           Linear-51                   [-1, 10]          40,970\n",
            "================================================================\n",
            "Total params: 134,297,290\n",
            "Trainable params: 134,297,290\n",
            "Non-trainable params: 0\n",
            "----------------------------------------------------------------\n",
            "Input size (MB): 0.57\n",
            "Forward/backward pass size (MB): 321.94\n",
            "Params size (MB): 512.30\n",
            "Estimated Total Size (MB): 834.82\n",
            "----------------------------------------------------------------\n"
          ]
        }
      ]
    },
    {
      "cell_type": "markdown",
      "source": [
        "## Train\n",
        "Train Model by CIFAR-10"
      ],
      "metadata": {
        "id": "XolWPISN76Ut"
      }
    },
    {
      "cell_type": "code",
      "source": [
        "def load_dataset():\n",
        "    # preprocess\n",
        "    transform = transforms.Compose([\n",
        "        transforms.ToTensor(),\n",
        "        transforms.Normalize((0.485, 0.456, 0.406), (0.229, 0.224, 0.225)),\n",
        "        transforms.Resize((224, 224))\n",
        "    ])\n",
        "\n",
        "    # load data\n",
        "    train = datasets.CIFAR10(root=\"./data\", train=True, transform=transform, download=True) \n",
        "    test = datasets.CIFAR10(root=\"./data\", train=False, transform=transform, download=True)\n",
        "    train_loader = DataLoader(train, batch_size=args.batch_size, shuffle = True)\n",
        "    test_loader = DataLoader(test, batch_size=args.batch_size, shuffle=True)\n",
        "    return train_loader, test_loader"
      ],
      "metadata": {
        "id": "6K8tzdwW6pP2"
      },
      "execution_count": 34,
      "outputs": []
    },
    {
      "cell_type": "code",
      "source": [
        "# hyperparameter\n",
        "args = EasyDict()\n",
        "args.batch_size = 64\n",
        "args.learning_rate = 0.01\n",
        "args.n_epochs = 1\n",
        "\n",
        "# functions\n",
        "criterion = nn.CrossEntropyLoss(reduction = 'sum').to(device)\n",
        "optimizer = torch.optim.Adam(model.parameters(), lr=args.learning_rate)"
      ],
      "metadata": {
        "id": "SH9ZiBUh7hEq"
      },
      "execution_count": 35,
      "outputs": []
    },
    {
      "cell_type": "code",
      "source": [
        "import time\n",
        "\n",
        "# load dataset\n",
        "train_loader, test_loader = load_dataset()\n",
        "\n",
        "loss_hist = []\n",
        "accuracy_hist = []\n",
        "\n",
        "start_time = time.time()\n",
        "\n",
        "# train\n",
        "for epoch in range(args.n_epochs):\n",
        "    model.train()\n",
        "    train_loss = 0\n",
        "    correct, count = 0, 0\n",
        "    for batch_idx, (images, labels) in enumerate(train_loader, start=1):\n",
        "        print(f\"\\rcurrent batch: {batch_idx} \\t Total batch: {len(train_loader)}\", end=\"\")\n",
        "        images, labels = images.to(device), labels.to(device)\n",
        "        output = model(images)\n",
        "        optimizer.zero_grad()\n",
        "        loss = criterion(output, labels)\n",
        "        loss.backward()\n",
        "        optimizer.step()\n",
        "\n",
        "        train_loss += loss.item()\n",
        "        _, preds = torch.max(output, 1) # torch max output is (max, max_index)\n",
        "        count += labels.size(0)\n",
        "        correct += torch.sum(preds == labels)\n",
        "        \n",
        "    loss_hist.append(train_loss/count)\n",
        "    accuracy_hist.append(correct/count)\n",
        "    print(f\"\\n[*] Epoch: {epoch} \\tTrain accuracy: {correct/count} \\tTrain Loss: {train_loss/count}\")\n",
        "\n",
        "end_time = time.time()\n",
        "\n",
        "print(f\"Training time : {end_time - start_time}\")"
      ],
      "metadata": {
        "colab": {
          "base_uri": "https://localhost:8080/"
        },
        "id": "sE2JIGch7qzr",
        "outputId": "d40f9a77-b104-4438-a2d5-375b147de28a"
      },
      "execution_count": 38,
      "outputs": [
        {
          "output_type": "stream",
          "name": "stdout",
          "text": [
            "Files already downloaded and verified\n",
            "Files already downloaded and verified\n",
            "current batch: 782 \t Total batch: 782[*] Epoch: 0 \tTrain accuracy: 0.09865999966859818 \tTrain Loss: 2.3035429692077636\n",
            "Training time : 730.4574925899506\n"
          ]
        }
      ]
    },
    {
      "cell_type": "code",
      "source": [
        "# test\n",
        "model.eval()\n",
        "correct, count = 0, 0\n",
        "test_loss = 0\n",
        "\n",
        "with torch.no_grad():\n",
        "    for batch_idx, (images, labels) in enumerate(test_loader, start=1):\n",
        "        print(f\"\\rcurrent batch: {batch_idx} \\t Total batch: {len(test_loader)}\", end=\"\")\n",
        "        images, labels = images.to(device), labels.to(device)\n",
        "        output = model(images)\n",
        "        loss = criterion(output, labels)\n",
        "        test_loss += loss.item()\n",
        "        _, preds = torch.max(output, 1)\n",
        "        count += labels.size(0)\n",
        "        correct += torch.sum(preds == labels)\n",
        "\n",
        "print(f\"\\nTest accuracy: {correct/count} \\tTest Loss: {test_loss/count}\")"
      ],
      "metadata": {
        "colab": {
          "base_uri": "https://localhost:8080/"
        },
        "id": "WAkv9TQ071A1",
        "outputId": "59dcc8f3-5ff3-4ba3-d898-c5068ae1e273"
      },
      "execution_count": 43,
      "outputs": [
        {
          "output_type": "stream",
          "name": "stdout",
          "text": [
            "current batch: 157 \t Total batch: 157\n",
            "Test accuracy: 0.09999999403953552 \tTest Loss: 2.302982970046997\n"
          ]
        }
      ]
    }
  ]
}