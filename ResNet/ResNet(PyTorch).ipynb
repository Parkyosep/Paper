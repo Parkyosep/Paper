{
  "nbformat": 4,
  "nbformat_minor": 0,
  "metadata": {
    "colab": {
      "provenance": [],
      "gpuType": "T4",
      "authorship_tag": "ABX9TyNNn9vGIisGJWj5S1lnfb/2"
    },
    "kernelspec": {
      "name": "python3",
      "display_name": "Python 3"
    },
    "language_info": {
      "name": "python"
    },
    "accelerator": "GPU"
  },
  "cells": [
    {
      "cell_type": "code",
      "execution_count": 1,
      "metadata": {
        "id": "OVivaKPsIxYC",
        "colab": {
          "base_uri": "https://localhost:8080/"
        },
        "outputId": "9b80e745-5454-42cf-fc94-3c56fbc6fbb3"
      },
      "outputs": [
        {
          "output_type": "stream",
          "name": "stdout",
          "text": [
            "Mounted at /content/gdrive\n"
          ]
        }
      ],
      "source": [
        "import os\n",
        "import numpy as np\n",
        "import torchvision.datasets as datasets\n",
        "import torchvision.transforms as transforms\n",
        "from torch.utils.data import DataLoader\n",
        "import matplotlib.pyplot as plt\n",
        "import torch\n",
        "import torch.nn as nn\n",
        "from torch import Tensor\n",
        "from typing import Any, Callable, List, Optional, Tuple\n",
        "from easydict import EasyDict\n",
        "\n",
        "from google.colab import drive\n",
        "drive.mount('/content/gdrive')"
      ]
    },
    {
      "cell_type": "markdown",
      "source": [
        "## Model"
      ],
      "metadata": {
        "id": "n2XRDfglLP64"
      }
    },
    {
      "cell_type": "code",
      "source": [
        "class BasicBlock(nn.Module):\n",
        "    expansion = 1\n",
        "    def __init__(self, in_channels, out_channels, stride=1):\n",
        "        super(BasicBlock, self).__init__()\n",
        "        self.residual_function = nn.Sequential(\n",
        "            # 3x3, \n",
        "            nn.Conv2d(in_channels, out_channels, kernel_size=3, stride=stride, \\\n",
        "                      padding=1, bias=False),\n",
        "            # Batch Normalization\n",
        "            nn.BatchNorm2d(out_channels),\n",
        "            # ReLU\n",
        "            nn.ReLU(),\n",
        "            # 3x3\n",
        "            nn.Conv2d(out_channels, out_channels * BasicBlock.expansion, \\\n",
        "                      kernel_size=3, stride=1, padding=1, bias=False),\n",
        "            # Batch Normalization\n",
        "            nn.BatchNorm2d(out_channels * BasicBlock.expansion)\n",
        "        )\n",
        "        # basic shortcut = just add / if size change : projection shortcut\n",
        "        self.shortcut = nn.Sequential()\n",
        "        # after basic block, ReLU\n",
        "        self.relu = nn.ReLU()\n",
        "        \n",
        "        # stride!=1 == size changes(downsampling) or channel size different\n",
        "        if stride != 1 or in_channels != BasicBlock.expansion * out_channels:\n",
        "            self.shortcut = nn.Sequential(\n",
        "                # make in channel, out channel matching\n",
        "                nn.Conv2d(in_channels, out_channels * BasicBlock.expansion, \\\n",
        "                          kernel_size=1, stride=stride, bias=False),\n",
        "                # Batch Normalization\n",
        "                nn.BatchNorm2d(out_channels * BasicBlock.expansion)\n",
        "            )\n",
        "\n",
        "        def forward(self, x):\n",
        "            x = self.residual_function(x) + self.shortcut(x)\n",
        "            x = self.relu(x)\n",
        "            return x"
      ],
      "metadata": {
        "id": "-JQCJjj_LNGP"
      },
      "execution_count": 2,
      "outputs": []
    },
    {
      "cell_type": "code",
      "source": [
        "class BottleNeck(nn.Module):\n",
        "    expansion = 4\n",
        "    def __init__(self, in_channels, out_channels, stride=1):\n",
        "        super(BottleNeck, self).__init__()\n",
        "        self.residual_function = nn.Sequential(\n",
        "            nn.Conv2d(in_channels, out_channels, kernel_size=1, stride=1, \\\n",
        "                      bias = False),\n",
        "            nn.BatchNorm2d(out_channels),\n",
        "            nn.ReLU(),\n",
        "            nn.Conv2d(out_channels, out_channels, kernel_size=3, stride=stride,\\\n",
        "                      padding=1, bias=False),\n",
        "            nn.BatchNorm2d(out_channels),\n",
        "            nn.ReLU(),\n",
        "            nn.Conv2d(out_channels, out_channels*BottleNeck.expansion, \\\n",
        "                      kernel_size=1, stride=1, bias = False),\n",
        "            nn.BatchNorm2d(out_channels * BottleNeck.expansion)\n",
        "        )\n",
        "        self.shortcut = nn.Sequential()\n",
        "        self.relu = nn.ReLU()\n",
        "        if stride != 1 or in_channels != out_channels * BottleNeck.expansion:\n",
        "            self.shortcut = nn.Sequential(\n",
        "                nn.Conv2d(in_channels, out_channels*BottleNeck.expansion,\\\n",
        "                          kernel_size = 1, stride = stride, bias=False),\n",
        "                nn.BatchNorm2d(out_channels * BottleNeck.expansion)\n",
        "            )\n",
        "        \n",
        "    def forward(self, x):\n",
        "        x = self.residual_function(x) + self.shortcut(x)\n",
        "        x = self.relu(x)\n",
        "        return x"
      ],
      "metadata": {
        "id": "SF7IdstBMzt_"
      },
      "execution_count": 3,
      "outputs": []
    },
    {
      "cell_type": "code",
      "source": [
        "class ResNet(nn.Module):\n",
        "    def __init__(self, block, num_block, num_classes=10, init_weights=True):\n",
        "        super(ResNet, self).__init__()\n",
        "\n",
        "        self.in_channels = 64\n",
        "\n",
        "        self.conv1 = nn.Sequential(\n",
        "            nn.Conv2d(3, 64, kernel_size=7, stride=2, padding=3, bias=False),\n",
        "            nn.BatchNorm2d(64),\n",
        "            nn.ReLU(),\n",
        "            nn.MaxPool2d(kernel_size=3, stride=2, padding=1)\n",
        "        )\n",
        "\n",
        "        self.conv2_x = self._make_layer(block, 64, num_block[0], 1)\n",
        "        self.conv3_x = self._make_layer(block, 128, num_block[1], 2)\n",
        "        self.conv4_x = self._make_layer(block, 256, num_block[2], 2)\n",
        "        self.conv5_x = self._make_layer(block, 512, num_block[3], 2)\n",
        "\n",
        "        # input size : channel x kernel x kernel -> channel x 1 x 1\n",
        "        self.avg_pool = nn.AdaptiveAvgPool2d((1, 1))\n",
        "        # channel -> num_classes\n",
        "        # if basic block : 512 -> num_classes / bottleneck : 2048 -> num_classes\n",
        "        self.fc = nn.Linear(512*block.expansion, num_classes)\n",
        "        \n",
        "        # if initialize weights(He initialization)\n",
        "        if init_weights:\n",
        "            self._initialize_weights()\n",
        "\n",
        "    def _make_layer(self, block, out_channels, num_blocks, stride):\n",
        "        # since only first stride changes, ex. [2, 1, 1]\n",
        "        strides = [stride] + [1] * (num_blocks - 1)\n",
        "        layers = []\n",
        "        for stride in strides:\n",
        "            # example conv2_x, in_channels, out_channels : (64, 64)(proj?), (256, 64)..\n",
        "            # example conv3_x, in_channels, out_channels : (128, 128)(proj), (512, 128)..\n",
        "            layers.append(block(self.in_channels, out_channels, stride))\n",
        "            # if bottleneck : 64,64,256 -> 256 -> 64,64,256 -> 256 -> ...\n",
        "            self.in_channels = out_channels * block.expansion\n",
        "\n",
        "        return nn.Sequential(*layers) \n",
        "\n",
        "    def forward(self, x):\n",
        "        x = self.conv1(x)\n",
        "        x = self.conv2_x(x)\n",
        "        x = self.conv3_x(x)\n",
        "        x = self.conv4_x(x)\n",
        "        x = self.conv5_x(x)\n",
        "        x = self.avg_pool(x)\n",
        "        x = nn.Flatten()(x) # same as x.view(x.size(0), -1)\n",
        "        x = self.fc(x)\n",
        "\n",
        "        return x\n",
        "\n",
        "    # initialize weights\n",
        "    def _initialize_weights(self):\n",
        "        for m in self.modules():\n",
        "            if isinstance(m, nn.Conv2d):\n",
        "                nn.init.kaiming_normal_(m.weight, mode='fan_out', nonlinearity='relu')\n",
        "                if m.bias is not None:\n",
        "                    # if bias exist, bias = 0\n",
        "                    nn.init.constant_(m.bias, 0)\n",
        "            elif isinstance(m, nn.BatchNorm2d):\n",
        "                nn.init.constant_(m.weight, 1)\n",
        "                nn.init.constant_(m.bias, 0)\n",
        "            elif isinstance(m, nn.Linear):\n",
        "                nn.init.normal_(m.weight, 0, 0.01)\n",
        "                nn.init.constant_(m.bias, 0)"
      ],
      "metadata": {
        "id": "WIwhdbBnQNde"
      },
      "execution_count": 4,
      "outputs": []
    },
    {
      "cell_type": "code",
      "source": [
        "def resnet18():\n",
        "    return ResNet(BasicBlock, [2,2,2,2])\n",
        "\n",
        "def resnet34():\n",
        "    return ResNet(BasicBlock, [3,4,6,3])\n",
        "\n",
        "def resnet50():\n",
        "    return ResNet(BottleNeck, [3,4,6,3])\n",
        "\n",
        "def resnet101():\n",
        "    return ResNet(BottleNeck, [3,4,23,3])\n",
        "\n",
        "def resnet152():\n",
        "    return ResNet(BottleNeck, [3,8,36,3])"
      ],
      "metadata": {
        "id": "aE8ime-2VYKP"
      },
      "execution_count": 5,
      "outputs": []
    },
    {
      "cell_type": "code",
      "source": [
        "# test\n",
        "model = resnet50()\n",
        "x = torch.randn(3, 3, 224, 224)\n",
        "print(model(x).size())"
      ],
      "metadata": {
        "colab": {
          "base_uri": "https://localhost:8080/"
        },
        "id": "PtGPHKNFWA2A",
        "outputId": "5fcc6e34-c876-4072-a87c-1203a2ef0212"
      },
      "execution_count": 6,
      "outputs": [
        {
          "output_type": "stream",
          "name": "stdout",
          "text": [
            "torch.Size([3, 10])\n"
          ]
        }
      ]
    },
    {
      "cell_type": "code",
      "source": [
        "from torchsummary import summary\n",
        "device = torch.device('cuda' if torch.cuda.is_available() else 'cpu')\n",
        "model = model.to(device)\n",
        "summary(model, (3,224,224), device = device.type)"
      ],
      "metadata": {
        "colab": {
          "base_uri": "https://localhost:8080/"
        },
        "id": "burAdBn5ZOOO",
        "outputId": "18b4ba35-54ce-4f9d-88c8-a1f1f11c340d"
      },
      "execution_count": 7,
      "outputs": [
        {
          "output_type": "stream",
          "name": "stdout",
          "text": [
            "----------------------------------------------------------------\n",
            "        Layer (type)               Output Shape         Param #\n",
            "================================================================\n",
            "            Conv2d-1         [-1, 64, 112, 112]           9,408\n",
            "       BatchNorm2d-2         [-1, 64, 112, 112]             128\n",
            "              ReLU-3         [-1, 64, 112, 112]               0\n",
            "         MaxPool2d-4           [-1, 64, 56, 56]               0\n",
            "            Conv2d-5           [-1, 64, 56, 56]           4,096\n",
            "       BatchNorm2d-6           [-1, 64, 56, 56]             128\n",
            "              ReLU-7           [-1, 64, 56, 56]               0\n",
            "            Conv2d-8           [-1, 64, 56, 56]          36,864\n",
            "       BatchNorm2d-9           [-1, 64, 56, 56]             128\n",
            "             ReLU-10           [-1, 64, 56, 56]               0\n",
            "           Conv2d-11          [-1, 256, 56, 56]          16,384\n",
            "      BatchNorm2d-12          [-1, 256, 56, 56]             512\n",
            "           Conv2d-13          [-1, 256, 56, 56]          16,384\n",
            "      BatchNorm2d-14          [-1, 256, 56, 56]             512\n",
            "             ReLU-15          [-1, 256, 56, 56]               0\n",
            "       BottleNeck-16          [-1, 256, 56, 56]               0\n",
            "           Conv2d-17           [-1, 64, 56, 56]          16,384\n",
            "      BatchNorm2d-18           [-1, 64, 56, 56]             128\n",
            "             ReLU-19           [-1, 64, 56, 56]               0\n",
            "           Conv2d-20           [-1, 64, 56, 56]          36,864\n",
            "      BatchNorm2d-21           [-1, 64, 56, 56]             128\n",
            "             ReLU-22           [-1, 64, 56, 56]               0\n",
            "           Conv2d-23          [-1, 256, 56, 56]          16,384\n",
            "      BatchNorm2d-24          [-1, 256, 56, 56]             512\n",
            "             ReLU-25          [-1, 256, 56, 56]               0\n",
            "       BottleNeck-26          [-1, 256, 56, 56]               0\n",
            "           Conv2d-27           [-1, 64, 56, 56]          16,384\n",
            "      BatchNorm2d-28           [-1, 64, 56, 56]             128\n",
            "             ReLU-29           [-1, 64, 56, 56]               0\n",
            "           Conv2d-30           [-1, 64, 56, 56]          36,864\n",
            "      BatchNorm2d-31           [-1, 64, 56, 56]             128\n",
            "             ReLU-32           [-1, 64, 56, 56]               0\n",
            "           Conv2d-33          [-1, 256, 56, 56]          16,384\n",
            "      BatchNorm2d-34          [-1, 256, 56, 56]             512\n",
            "             ReLU-35          [-1, 256, 56, 56]               0\n",
            "       BottleNeck-36          [-1, 256, 56, 56]               0\n",
            "           Conv2d-37          [-1, 128, 56, 56]          32,768\n",
            "      BatchNorm2d-38          [-1, 128, 56, 56]             256\n",
            "             ReLU-39          [-1, 128, 56, 56]               0\n",
            "           Conv2d-40          [-1, 128, 28, 28]         147,456\n",
            "      BatchNorm2d-41          [-1, 128, 28, 28]             256\n",
            "             ReLU-42          [-1, 128, 28, 28]               0\n",
            "           Conv2d-43          [-1, 512, 28, 28]          65,536\n",
            "      BatchNorm2d-44          [-1, 512, 28, 28]           1,024\n",
            "           Conv2d-45          [-1, 512, 28, 28]         131,072\n",
            "      BatchNorm2d-46          [-1, 512, 28, 28]           1,024\n",
            "             ReLU-47          [-1, 512, 28, 28]               0\n",
            "       BottleNeck-48          [-1, 512, 28, 28]               0\n",
            "           Conv2d-49          [-1, 128, 28, 28]          65,536\n",
            "      BatchNorm2d-50          [-1, 128, 28, 28]             256\n",
            "             ReLU-51          [-1, 128, 28, 28]               0\n",
            "           Conv2d-52          [-1, 128, 28, 28]         147,456\n",
            "      BatchNorm2d-53          [-1, 128, 28, 28]             256\n",
            "             ReLU-54          [-1, 128, 28, 28]               0\n",
            "           Conv2d-55          [-1, 512, 28, 28]          65,536\n",
            "      BatchNorm2d-56          [-1, 512, 28, 28]           1,024\n",
            "             ReLU-57          [-1, 512, 28, 28]               0\n",
            "       BottleNeck-58          [-1, 512, 28, 28]               0\n",
            "           Conv2d-59          [-1, 128, 28, 28]          65,536\n",
            "      BatchNorm2d-60          [-1, 128, 28, 28]             256\n",
            "             ReLU-61          [-1, 128, 28, 28]               0\n",
            "           Conv2d-62          [-1, 128, 28, 28]         147,456\n",
            "      BatchNorm2d-63          [-1, 128, 28, 28]             256\n",
            "             ReLU-64          [-1, 128, 28, 28]               0\n",
            "           Conv2d-65          [-1, 512, 28, 28]          65,536\n",
            "      BatchNorm2d-66          [-1, 512, 28, 28]           1,024\n",
            "             ReLU-67          [-1, 512, 28, 28]               0\n",
            "       BottleNeck-68          [-1, 512, 28, 28]               0\n",
            "           Conv2d-69          [-1, 128, 28, 28]          65,536\n",
            "      BatchNorm2d-70          [-1, 128, 28, 28]             256\n",
            "             ReLU-71          [-1, 128, 28, 28]               0\n",
            "           Conv2d-72          [-1, 128, 28, 28]         147,456\n",
            "      BatchNorm2d-73          [-1, 128, 28, 28]             256\n",
            "             ReLU-74          [-1, 128, 28, 28]               0\n",
            "           Conv2d-75          [-1, 512, 28, 28]          65,536\n",
            "      BatchNorm2d-76          [-1, 512, 28, 28]           1,024\n",
            "             ReLU-77          [-1, 512, 28, 28]               0\n",
            "       BottleNeck-78          [-1, 512, 28, 28]               0\n",
            "           Conv2d-79          [-1, 256, 28, 28]         131,072\n",
            "      BatchNorm2d-80          [-1, 256, 28, 28]             512\n",
            "             ReLU-81          [-1, 256, 28, 28]               0\n",
            "           Conv2d-82          [-1, 256, 14, 14]         589,824\n",
            "      BatchNorm2d-83          [-1, 256, 14, 14]             512\n",
            "             ReLU-84          [-1, 256, 14, 14]               0\n",
            "           Conv2d-85         [-1, 1024, 14, 14]         262,144\n",
            "      BatchNorm2d-86         [-1, 1024, 14, 14]           2,048\n",
            "           Conv2d-87         [-1, 1024, 14, 14]         524,288\n",
            "      BatchNorm2d-88         [-1, 1024, 14, 14]           2,048\n",
            "             ReLU-89         [-1, 1024, 14, 14]               0\n",
            "       BottleNeck-90         [-1, 1024, 14, 14]               0\n",
            "           Conv2d-91          [-1, 256, 14, 14]         262,144\n",
            "      BatchNorm2d-92          [-1, 256, 14, 14]             512\n",
            "             ReLU-93          [-1, 256, 14, 14]               0\n",
            "           Conv2d-94          [-1, 256, 14, 14]         589,824\n",
            "      BatchNorm2d-95          [-1, 256, 14, 14]             512\n",
            "             ReLU-96          [-1, 256, 14, 14]               0\n",
            "           Conv2d-97         [-1, 1024, 14, 14]         262,144\n",
            "      BatchNorm2d-98         [-1, 1024, 14, 14]           2,048\n",
            "             ReLU-99         [-1, 1024, 14, 14]               0\n",
            "      BottleNeck-100         [-1, 1024, 14, 14]               0\n",
            "          Conv2d-101          [-1, 256, 14, 14]         262,144\n",
            "     BatchNorm2d-102          [-1, 256, 14, 14]             512\n",
            "            ReLU-103          [-1, 256, 14, 14]               0\n",
            "          Conv2d-104          [-1, 256, 14, 14]         589,824\n",
            "     BatchNorm2d-105          [-1, 256, 14, 14]             512\n",
            "            ReLU-106          [-1, 256, 14, 14]               0\n",
            "          Conv2d-107         [-1, 1024, 14, 14]         262,144\n",
            "     BatchNorm2d-108         [-1, 1024, 14, 14]           2,048\n",
            "            ReLU-109         [-1, 1024, 14, 14]               0\n",
            "      BottleNeck-110         [-1, 1024, 14, 14]               0\n",
            "          Conv2d-111          [-1, 256, 14, 14]         262,144\n",
            "     BatchNorm2d-112          [-1, 256, 14, 14]             512\n",
            "            ReLU-113          [-1, 256, 14, 14]               0\n",
            "          Conv2d-114          [-1, 256, 14, 14]         589,824\n",
            "     BatchNorm2d-115          [-1, 256, 14, 14]             512\n",
            "            ReLU-116          [-1, 256, 14, 14]               0\n",
            "          Conv2d-117         [-1, 1024, 14, 14]         262,144\n",
            "     BatchNorm2d-118         [-1, 1024, 14, 14]           2,048\n",
            "            ReLU-119         [-1, 1024, 14, 14]               0\n",
            "      BottleNeck-120         [-1, 1024, 14, 14]               0\n",
            "          Conv2d-121          [-1, 256, 14, 14]         262,144\n",
            "     BatchNorm2d-122          [-1, 256, 14, 14]             512\n",
            "            ReLU-123          [-1, 256, 14, 14]               0\n",
            "          Conv2d-124          [-1, 256, 14, 14]         589,824\n",
            "     BatchNorm2d-125          [-1, 256, 14, 14]             512\n",
            "            ReLU-126          [-1, 256, 14, 14]               0\n",
            "          Conv2d-127         [-1, 1024, 14, 14]         262,144\n",
            "     BatchNorm2d-128         [-1, 1024, 14, 14]           2,048\n",
            "            ReLU-129         [-1, 1024, 14, 14]               0\n",
            "      BottleNeck-130         [-1, 1024, 14, 14]               0\n",
            "          Conv2d-131          [-1, 256, 14, 14]         262,144\n",
            "     BatchNorm2d-132          [-1, 256, 14, 14]             512\n",
            "            ReLU-133          [-1, 256, 14, 14]               0\n",
            "          Conv2d-134          [-1, 256, 14, 14]         589,824\n",
            "     BatchNorm2d-135          [-1, 256, 14, 14]             512\n",
            "            ReLU-136          [-1, 256, 14, 14]               0\n",
            "          Conv2d-137         [-1, 1024, 14, 14]         262,144\n",
            "     BatchNorm2d-138         [-1, 1024, 14, 14]           2,048\n",
            "            ReLU-139         [-1, 1024, 14, 14]               0\n",
            "      BottleNeck-140         [-1, 1024, 14, 14]               0\n",
            "          Conv2d-141          [-1, 512, 14, 14]         524,288\n",
            "     BatchNorm2d-142          [-1, 512, 14, 14]           1,024\n",
            "            ReLU-143          [-1, 512, 14, 14]               0\n",
            "          Conv2d-144            [-1, 512, 7, 7]       2,359,296\n",
            "     BatchNorm2d-145            [-1, 512, 7, 7]           1,024\n",
            "            ReLU-146            [-1, 512, 7, 7]               0\n",
            "          Conv2d-147           [-1, 2048, 7, 7]       1,048,576\n",
            "     BatchNorm2d-148           [-1, 2048, 7, 7]           4,096\n",
            "          Conv2d-149           [-1, 2048, 7, 7]       2,097,152\n",
            "     BatchNorm2d-150           [-1, 2048, 7, 7]           4,096\n",
            "            ReLU-151           [-1, 2048, 7, 7]               0\n",
            "      BottleNeck-152           [-1, 2048, 7, 7]               0\n",
            "          Conv2d-153            [-1, 512, 7, 7]       1,048,576\n",
            "     BatchNorm2d-154            [-1, 512, 7, 7]           1,024\n",
            "            ReLU-155            [-1, 512, 7, 7]               0\n",
            "          Conv2d-156            [-1, 512, 7, 7]       2,359,296\n",
            "     BatchNorm2d-157            [-1, 512, 7, 7]           1,024\n",
            "            ReLU-158            [-1, 512, 7, 7]               0\n",
            "          Conv2d-159           [-1, 2048, 7, 7]       1,048,576\n",
            "     BatchNorm2d-160           [-1, 2048, 7, 7]           4,096\n",
            "            ReLU-161           [-1, 2048, 7, 7]               0\n",
            "      BottleNeck-162           [-1, 2048, 7, 7]               0\n",
            "          Conv2d-163            [-1, 512, 7, 7]       1,048,576\n",
            "     BatchNorm2d-164            [-1, 512, 7, 7]           1,024\n",
            "            ReLU-165            [-1, 512, 7, 7]               0\n",
            "          Conv2d-166            [-1, 512, 7, 7]       2,359,296\n",
            "     BatchNorm2d-167            [-1, 512, 7, 7]           1,024\n",
            "            ReLU-168            [-1, 512, 7, 7]               0\n",
            "          Conv2d-169           [-1, 2048, 7, 7]       1,048,576\n",
            "     BatchNorm2d-170           [-1, 2048, 7, 7]           4,096\n",
            "            ReLU-171           [-1, 2048, 7, 7]               0\n",
            "      BottleNeck-172           [-1, 2048, 7, 7]               0\n",
            "AdaptiveAvgPool2d-173           [-1, 2048, 1, 1]               0\n",
            "          Linear-174                   [-1, 10]          20,490\n",
            "================================================================\n",
            "Total params: 23,528,522\n",
            "Trainable params: 23,528,522\n",
            "Non-trainable params: 0\n",
            "----------------------------------------------------------------\n",
            "Input size (MB): 0.57\n",
            "Forward/backward pass size (MB): 286.55\n",
            "Params size (MB): 89.75\n",
            "Estimated Total Size (MB): 376.88\n",
            "----------------------------------------------------------------\n"
          ]
        }
      ]
    },
    {
      "cell_type": "markdown",
      "source": [
        "## Train\n",
        "Train model by CIFAR-10 datasets"
      ],
      "metadata": {
        "id": "PIv7dnSobXsb"
      }
    },
    {
      "cell_type": "code",
      "source": [
        "def load_dataset():\n",
        "    # preprocess\n",
        "    transform = transforms.Compose([\n",
        "        transforms.ToTensor(),\n",
        "        transforms.Normalize((0.485, 0.456, 0.406), (0.229, 0.224, 0.225)),\n",
        "        transforms.Resize((224, 224))\n",
        "    ])\n",
        "\n",
        "    # load data\n",
        "    train = datasets.CIFAR10(root=\"./data\", train=True, transform=transform, download=True) \n",
        "    test = datasets.CIFAR10(root=\"./data\", train=False, transform=transform, download=True)\n",
        "    train_loader = DataLoader(train, batch_size=args.batch_size, shuffle = True)\n",
        "    test_loader = DataLoader(test, batch_size=args.batch_size, shuffle=True)\n",
        "    return train_loader, test_loader\n",
        "\n",
        "# use GPU if available\n",
        "device = torch.device('cuda' if torch.cuda.is_available() else 'cpu')\n",
        "if torch.cuda.is_available():\n",
        "    print(\"we use GPU\")\n",
        "else:\n",
        "    print(\"we use CPU\")"
      ],
      "metadata": {
        "colab": {
          "base_uri": "https://localhost:8080/"
        },
        "id": "eRFq63OVbJKg",
        "outputId": "427fba2a-39c5-4e5c-9b42-5adb5be774d4"
      },
      "execution_count": 8,
      "outputs": [
        {
          "output_type": "stream",
          "name": "stdout",
          "text": [
            "we use GPU\n"
          ]
        }
      ]
    },
    {
      "cell_type": "code",
      "source": [
        "# hyperparameter\n",
        "args = EasyDict()\n",
        "args.batch_size = 100\n",
        "args.learning_rate = 0.01\n",
        "args.n_epochs = 10\n",
        "args.weight_decay = 0.0001\n",
        "args.momentum = 0.9\n",
        "\n",
        "# functions\n",
        "model = resnet50().to(device)\n",
        "criterion = nn.CrossEntropyLoss(reduction = 'sum').to(device)\n",
        "optimizer = torch.optim.Adam(model.parameters(), lr=args.learning_rate)\n",
        "# scheduler : on plateau with patience 10, reduce by 10 and print it is reduced\n",
        "# in below train code, we don't use scheduler. See appendix to use scheduler\n",
        "scheduler = torch.optim.lr_scheduler.ReduceLROnPlateau(optimizer = optimizer, mode = 'min', \\\n",
        "                                                       factor=0.1, patience = 10, verbose=True)\n",
        "PATH = '/content/gdrive/MyDrive/Colab Notebooks/resnet.pt'\n",
        "import os.path\n",
        "\n",
        "epoch_start = 1\n",
        "\n",
        "if os.path.exists(PATH):\n",
        "    checkpoint = torch.load(PATH)\n",
        "    model.load_state_dict(checkpoint['model_state_dict'])\n",
        "    optimizer.load_state_dict(checkpoint['optimizer_state_dict'])\n",
        "    epoch_start = checkpoint['epoch']\n",
        "    print(\"successfully loaded!\")\n",
        "    print(\"epoch starts from here:\", epoch_start)"
      ],
      "metadata": {
        "id": "NPER-6A-gw5t",
        "colab": {
          "base_uri": "https://localhost:8080/"
        },
        "outputId": "ad96999d-a9d2-4a0b-92ed-c5d8c8dbcb3d"
      },
      "execution_count": 12,
      "outputs": [
        {
          "output_type": "stream",
          "name": "stdout",
          "text": [
            "successfully loaded!\n",
            "epoch starts from here: 3\n"
          ]
        }
      ]
    },
    {
      "cell_type": "code",
      "source": [
        "import time\n",
        "\n",
        "# load dataset\n",
        "train_loader, test_loader = load_dataset()\n",
        "\n",
        "loss_hist = []\n",
        "accuracy_hist = []\n",
        "\n",
        "start_time = time.time()\n",
        "\n",
        "print(f\"we will start from:{epoch_start+1}\")\n",
        "# train\n",
        "for epoch in range(epoch_start+1, args.n_epochs+1):\n",
        "    model.train()\n",
        "    train_loss = 0\n",
        "    correct, count = 0, 0\n",
        "    for batch_idx, (images, labels) in enumerate(train_loader, start=1):\n",
        "        images, labels = images.to(device), labels.to(device)\n",
        "        output = model(images)\n",
        "        optimizer.zero_grad()\n",
        "        loss = criterion(output, labels)\n",
        "        loss.backward()\n",
        "        optimizer.step()\n",
        "\n",
        "        train_loss += loss.item()\n",
        "        _, preds = torch.max(output, 1) # torch max output is (max, max_index)\n",
        "        count += labels.size(0)\n",
        "        correct += torch.sum(preds == labels)\n",
        "        \n",
        "    loss_hist.append(train_loss/count)\n",
        "    accuracy_hist.append(correct/count)\n",
        "    print(f\"[*] Epoch: {epoch} \\tTrain accuracy: {correct/count} \\tTrain Loss: {train_loss/count}\")\n",
        "    torch.save({\n",
        "        'epoch' : epoch,\n",
        "        'model_state_dict' : model.state_dict(),\n",
        "        'optimizer_state_dict' : optimizer.state_dict(),\n",
        "        }, PATH)\n",
        "\n",
        "end_time = time.time()\n",
        "\n",
        "print(f\"Training time : {end_time - start_time}\")"
      ],
      "metadata": {
        "colab": {
          "base_uri": "https://localhost:8080/"
        },
        "id": "WcWhgxg6krNv",
        "outputId": "fb92ce0d-119d-4ce0-ec94-8d3c91bf98b2"
      },
      "execution_count": 13,
      "outputs": [
        {
          "output_type": "stream",
          "name": "stdout",
          "text": [
            "Files already downloaded and verified\n",
            "Files already downloaded and verified\n",
            "we will start from:4\n",
            "[*] Epoch: 4 \tTrain accuracy: 0.7275599837303162 \tTrain Loss: 0.7708864000701904\n",
            "[*] Epoch: 5 \tTrain accuracy: 0.7790399789810181 \tTrain Loss: 0.6341631507873535\n",
            "[*] Epoch: 6 \tTrain accuracy: 0.8135600090026855 \tTrain Loss: 0.5347747239303589\n",
            "[*] Epoch: 7 \tTrain accuracy: 0.840719997882843 \tTrain Loss: 0.4580178423309326\n",
            "[*] Epoch: 8 \tTrain accuracy: 0.8665799498558044 \tTrain Loss: 0.3789066904449463\n",
            "[*] Epoch: 9 \tTrain accuracy: 0.8926799893379211 \tTrain Loss: 0.3043674970054627\n",
            "[*] Epoch: 10 \tTrain accuracy: 0.9113399982452393 \tTrain Loss: 0.24676807146072388\n",
            "Training time : 4179.7316563129425\n"
          ]
        }
      ]
    },
    {
      "cell_type": "code",
      "source": [
        "# test\n",
        "model.eval()\n",
        "correct, count = 0, 0\n",
        "test_loss = 0\n",
        "\n",
        "with torch.no_grad():\n",
        "    for batch_idx, (images, labels) in enumerate(test_loader, start=1):\n",
        "        images, labels = images.to(device), labels.to(device)\n",
        "        output = model(images)\n",
        "        loss = criterion(output, labels)\n",
        "        test_loss += loss.item()\n",
        "        _, preds = torch.max(output, 1)\n",
        "        count += labels.size(0)\n",
        "        correct += torch.sum(preds == labels)\n",
        "\n",
        "print(f\"Test accuracy: {correct/count} \\tTest Loss: {test_loss/count}\")"
      ],
      "metadata": {
        "id": "RPckRhPSl2qT",
        "colab": {
          "base_uri": "https://localhost:8080/"
        },
        "outputId": "43c8b876-4ce7-4236-bde8-813e4a4287da"
      },
      "execution_count": 14,
      "outputs": [
        {
          "output_type": "stream",
          "name": "stdout",
          "text": [
            "Test accuracy: 0.7896999716758728 \tTest Loss: 0.683822583770752\n"
          ]
        }
      ]
    },
    {
      "cell_type": "code",
      "source": [
        "# plot graph\n",
        "width = len(loss_hist)\n",
        "plt.title(\"Train Loss\")\n",
        "plt.plot(range(epoch_start+1, width+epoch_start+1), loss_hist)\n",
        "plt.xlabel(\"Epochs\")\n",
        "plt.ylabel(\"Loss\")\n",
        "plt.show()\n",
        "\n",
        "accuracy_hist2 = torch.stack(accuracy_hist).cpu().tolist()\n",
        "plt.title(\"Train Accuracy\")\n",
        "plt.plot(range(epoch_start+1, width+epoch_start+1), accuracy_hist2)\n",
        "plt.xlabel(\"Epochs\")\n",
        "plt.ylabel(\"Accuracy\")\n",
        "plt.show()"
      ],
      "metadata": {
        "colab": {
          "base_uri": "https://localhost:8080/",
          "height": 927
        },
        "id": "wxxCXOR4hbWW",
        "outputId": "cff7a199-6ead-44ee-db00-b3f88d98915c"
      },
      "execution_count": 43,
      "outputs": [
        {
          "output_type": "display_data",
          "data": {
            "text/plain": [
              "<Figure size 640x480 with 1 Axes>"
            ],
            "image/png": "[encoded data removed]"
          },
          "metadata": {}
        },
        {
          "output_type": "display_data",
          "data": {
            "text/plain": [
              "<Figure size 640x480 with 1 Axes>"
            ],
            "image/png": "[encoded data removed]"
          },
          "metadata": {}
        }
      ]
    },
    {
      "cell_type": "code",
      "source": [
        "# why we should change accuracy_hist to\n",
        "\n",
        "accuracy_hist2 = torch.stack(accuracy_hist)\n",
        "accuracy_hist2.cpu().tolist()"
      ],
      "metadata": {
        "colab": {
          "base_uri": "https://localhost:8080/"
        },
        "id": "oCJh7_Bs2Tlq",
        "outputId": "8c4a4926-b8e6-46bb-9263-bff20f5aca12"
      },
      "execution_count": 31,
      "outputs": [
        {
          "output_type": "execute_result",
          "data": {
            "text/plain": [
              "[0.7275599837303162,\n",
              " 0.7790399789810181,\n",
              " 0.8135600090026855,\n",
              " 0.840719997882843,\n",
              " 0.8665799498558044,\n",
              " 0.8926799893379211,\n",
              " 0.9113399982452393]"
            ]
          },
          "metadata": {},
          "execution_count": 31
        }
      ]
    },
    {
      "cell_type": "code",
      "source": [
        "accuracy_hist"
      ],
      "metadata": {
        "colab": {
          "base_uri": "https://localhost:8080/"
        },
        "id": "IixSIzcE3iLb",
        "outputId": "1024d00b-53cd-406a-da8b-171672cdb7f7"
      },
      "execution_count": 41,
      "outputs": [
        {
          "output_type": "execute_result",
          "data": {
            "text/plain": [
              "[tensor(0.7276, device='cuda:0'),\n",
              " tensor(0.7790, device='cuda:0'),\n",
              " tensor(0.8136, device='cuda:0'),\n",
              " tensor(0.8407, device='cuda:0'),\n",
              " tensor(0.8666, device='cuda:0'),\n",
              " tensor(0.8927, device='cuda:0'),\n",
              " tensor(0.9113, device='cuda:0')]"
            ]
          },
          "metadata": {},
          "execution_count": 41
        }
      ]
    },
    {
      "cell_type": "markdown",
      "source": [
        "## Appendix : ReduceLrOnPlateau\n",
        "\n",
        "For ReduceLrOnPlateau, we have to make v\n",
        "alidation-dataloader\n",
        "we have to change two things\n",
        "\n",
        "\n",
        "```\n",
        "def load_dataset():\n",
        "    # preprocess\n",
        "    transform = transforms.Compose([\n",
        "        transforms.ToTensor(),\n",
        "        transforms.Normalize((0.485, 0.456, 0.406), (0.229, 0.224, 0.225)),\n",
        "        transforms.Resize((224, 224))\n",
        "    ])\n",
        "\n",
        "    # load data\n",
        "    train = datasets.CIFAR10(root=\"./data\", train=True, transform=transform, download=True)\n",
        "    train_size = int(len(train) * 0.8) # 80% training data\n",
        "    valid_size = len(train) - train_size # 20% validation data\n",
        "    train, valid = random_split(train, [train_size, valid_size])\n",
        "    \n",
        "    test = datasets.CIFAR10(root=\"./data\", train=False, transform=transform, download=True)\n",
        "    train_loader = DataLoader(train, batch_size=args.batch_size, shuffle = True)\n",
        "    val_loader = DataLoader(valid, batch_size=args.batch_size, shuffle=True)\n",
        "    test_loader = DataLoader(test, batch_size=args.batch_size, shuffle=True)\n",
        "    return train_loader, val_loader, test_loader\n",
        "```\n",
        "And then we have to make loss function for validation.\n",
        "```\n",
        "def loss_val(model, val_loader):\n",
        "    total_loss = 0\n",
        "    for batch_idx, (images, labels) in enumerate(val_loader, start=1):\n",
        "        images, labels = images.to(device), labels.to(device)\n",
        "        output = model(images)\n",
        "        total_loss += criterion(output, labels)\n",
        "    loss = total_loss / len(val_loader)\n",
        "    return loss\n",
        "```\n",
        "Finally we add this code on train code.\n",
        "```\n",
        "for epoch in range(args.n_epochs):\n",
        "    model.train()\n",
        "    train_loss = 0\n",
        "    correct, count = 0, 0\n",
        "    for batch_idx, (images, labels) in enumerate(train_loader, start=1):\n",
        "        images, labels = images.to(device), labels.to(device)\n",
        "        output = model(images)\n",
        "        optimizer.zero_grad()\n",
        "        loss = criterion(output, labels)\n",
        "        loss.backward()\n",
        "        optimizer.step()\n",
        "\n",
        "        train_loss += loss.item()\n",
        "        _, preds = torch.max(output, 1) # torch max output is (max, max_index)\n",
        "        count += labels.size(0)\n",
        "        correct += torch.sum(preds == labels)\n",
        "    # here!\n",
        "    with torch.no_grad():\n",
        "        val_loss = loss_val(model, val_loader)\n",
        "    scheduler.step(val_loss)\n",
        "```\n",
        "Then scheduler will update learning rate by validation loss."
      ],
      "metadata": {
        "id": "jYMerYbuGcLp"
      }
    }
  ]
}